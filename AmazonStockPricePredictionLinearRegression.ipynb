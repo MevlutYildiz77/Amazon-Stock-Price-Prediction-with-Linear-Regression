{
 "cells": [
  {
   "cell_type": "code",
   "execution_count": 1,
   "metadata": {},
   "outputs": [],
   "source": [
    "import pandas as pd\n",
    "import numpy as np\n",
    "from sklearn import preprocessing\n",
    "from sklearn.model_selection import train_test_split\n",
    "from sklearn.linear_model import LinearRegression"
   ]
  },
  {
   "cell_type": "code",
   "execution_count": 2,
   "metadata": {},
   "outputs": [],
   "source": [
    "def prepare_data(df, forecast_col, forecast_out, test_size):\n",
    "    label = df[forecast_col].shift(-forecast_out)  # #creating new column called label with the last 5 rows are nan\n",
    "    X = np.array(df[[forecast_col]])  # #creating the feature array\n",
    "    X = preprocessing.scale(X)  # #processing the feature array\n",
    "    X_lately = X[-forecast_out:]  # #creating the column i want to use later in the predicting method\n",
    "    X = X[:-forecast_out]  #  X that will contain the training and testing\n",
    "    label.dropna(inplace = True) #dropping na values\n",
    "    y = np.array(label) # assigning Y\n",
    "    X_train, X_test, Y_train, Y_test = train_test_split(X, y, test_size=test_size, random_state=42) #cross validation\n",
    "\n",
    "    response = [X_train, X_test, Y_train, Y_test, X_lately]\n",
    "    return response\n"
   ]
  },
  {
   "cell_type": "code",
   "execution_count": 3,
   "metadata": {},
   "outputs": [
    {
     "data": {
      "text/html": [
       "<div>\n",
       "<style scoped>\n",
       "    .dataframe tbody tr th:only-of-type {\n",
       "        vertical-align: middle;\n",
       "    }\n",
       "\n",
       "    .dataframe tbody tr th {\n",
       "        vertical-align: top;\n",
       "    }\n",
       "\n",
       "    .dataframe thead th {\n",
       "        text-align: right;\n",
       "    }\n",
       "</style>\n",
       "<table border=\"1\" class=\"dataframe\">\n",
       "  <thead>\n",
       "    <tr style=\"text-align: right;\">\n",
       "      <th></th>\n",
       "      <th>Date</th>\n",
       "      <th>Open</th>\n",
       "      <th>High</th>\n",
       "      <th>Low</th>\n",
       "      <th>Close</th>\n",
       "      <th>Adj Close</th>\n",
       "      <th>Volume</th>\n",
       "    </tr>\n",
       "  </thead>\n",
       "  <tbody>\n",
       "    <tr>\n",
       "      <th>0</th>\n",
       "      <td>2022-02-04</td>\n",
       "      <td>155.606506</td>\n",
       "      <td>161.199997</td>\n",
       "      <td>150.608002</td>\n",
       "      <td>157.639496</td>\n",
       "      <td>157.639496</td>\n",
       "      <td>253456000</td>\n",
       "    </tr>\n",
       "    <tr>\n",
       "      <th>1</th>\n",
       "      <td>2022-02-07</td>\n",
       "      <td>158.520004</td>\n",
       "      <td>162.690994</td>\n",
       "      <td>157.250000</td>\n",
       "      <td>157.935501</td>\n",
       "      <td>157.935501</td>\n",
       "      <td>102624000</td>\n",
       "    </tr>\n",
       "    <tr>\n",
       "      <th>2</th>\n",
       "      <td>2022-02-08</td>\n",
       "      <td>156.750504</td>\n",
       "      <td>161.792496</td>\n",
       "      <td>155.550507</td>\n",
       "      <td>161.413498</td>\n",
       "      <td>161.413498</td>\n",
       "      <td>76040000</td>\n",
       "    </tr>\n",
       "    <tr>\n",
       "      <th>3</th>\n",
       "      <td>2022-02-09</td>\n",
       "      <td>162.873505</td>\n",
       "      <td>163.834503</td>\n",
       "      <td>160.250000</td>\n",
       "      <td>161.189499</td>\n",
       "      <td>161.189499</td>\n",
       "      <td>68786000</td>\n",
       "    </tr>\n",
       "    <tr>\n",
       "      <th>4</th>\n",
       "      <td>2022-02-10</td>\n",
       "      <td>158.350006</td>\n",
       "      <td>160.716507</td>\n",
       "      <td>157.750000</td>\n",
       "      <td>159.003494</td>\n",
       "      <td>159.003494</td>\n",
       "      <td>68268000</td>\n",
       "    </tr>\n",
       "  </tbody>\n",
       "</table>\n",
       "</div>"
      ],
      "text/plain": [
       "         Date        Open        High         Low       Close   Adj Close  \\\n",
       "0  2022-02-04  155.606506  161.199997  150.608002  157.639496  157.639496   \n",
       "1  2022-02-07  158.520004  162.690994  157.250000  157.935501  157.935501   \n",
       "2  2022-02-08  156.750504  161.792496  155.550507  161.413498  161.413498   \n",
       "3  2022-02-09  162.873505  163.834503  160.250000  161.189499  161.189499   \n",
       "4  2022-02-10  158.350006  160.716507  157.750000  159.003494  159.003494   \n",
       "\n",
       "      Volume  \n",
       "0  253456000  \n",
       "1  102624000  \n",
       "2   76040000  \n",
       "3   68786000  \n",
       "4   68268000  "
      ]
     },
     "execution_count": 3,
     "metadata": {},
     "output_type": "execute_result"
    }
   ],
   "source": [
    "df= pd.read_csv(\"prices.csv\")\n",
    "df.head()"
   ]
  },
  {
   "cell_type": "code",
   "execution_count": 4,
   "metadata": {},
   "outputs": [
    {
     "name": "stdout",
     "output_type": "stream",
     "text": [
      "<class 'pandas.core.frame.DataFrame'>\n",
      "RangeIndex: 251 entries, 0 to 250\n",
      "Data columns (total 7 columns):\n",
      " #   Column     Non-Null Count  Dtype  \n",
      "---  ------     --------------  -----  \n",
      " 0   Date       251 non-null    object \n",
      " 1   Open       251 non-null    float64\n",
      " 2   High       251 non-null    float64\n",
      " 3   Low        251 non-null    float64\n",
      " 4   Close      251 non-null    float64\n",
      " 5   Adj Close  251 non-null    float64\n",
      " 6   Volume     251 non-null    int64  \n",
      "dtypes: float64(5), int64(1), object(1)\n",
      "memory usage: 13.9+ KB\n"
     ]
    }
   ],
   "source": [
    "df.info()"
   ]
  },
  {
   "cell_type": "code",
   "execution_count": 5,
   "metadata": {},
   "outputs": [],
   "source": [
    "#df = df[df.symbol == \"AMZN\"]"
   ]
  },
  {
   "cell_type": "code",
   "execution_count": 6,
   "metadata": {},
   "outputs": [],
   "source": [
    "forecast_col = 'Close'\n",
    "forecast_out = 7\n",
    "test_size = 0.2"
   ]
  },
  {
   "cell_type": "code",
   "execution_count": 7,
   "metadata": {},
   "outputs": [
    {
     "data": {
      "text/plain": [
       "LinearRegression()"
      ]
     },
     "execution_count": 7,
     "metadata": {},
     "output_type": "execute_result"
    }
   ],
   "source": [
    "X_train, X_test, Y_train, Y_test, X_lately = prepare_data(df,forecast_col, forecast_out, test_size)\n",
    "learner = LinearRegression()\n",
    "learner.fit(X_train, Y_train)\n"
   ]
  },
  {
   "cell_type": "code",
   "execution_count": 8,
   "metadata": {},
   "outputs": [
    {
     "name": "stdout",
     "output_type": "stream",
     "text": [
      "{'test_score': 0.7946357962920226, 'forecast_set': array([100.24502161, 102.81498062, 101.37682758, 103.57235255,\n",
      "       105.29133772, 111.89494927, 103.79360922])}\n"
     ]
    }
   ],
   "source": [
    "score= learner.score(X_test, Y_test) #testing the linear regression model\n",
    "forecast = learner.predict(X_lately)  #set that will contain the forecasted data\n",
    "response = {}  #creting json object\n",
    "response['test_score']= score\n",
    "response['forecast_set'] = forecast\n",
    "\n",
    "print(response)\n"
   ]
  },
  {
   "attachments": {},
   "cell_type": "markdown",
   "metadata": {},
   "source": [
    "Tesla Stock Price Prediction with Machine Learning"
   ]
  },
  {
   "cell_type": "code",
   "execution_count": 29,
   "metadata": {},
   "outputs": [],
   "source": [
    "import numpy as np\n",
    "import pandas as pd\n",
    "import matplotlib.pyplot as plt\n",
    "import prophet"
   ]
  },
  {
   "cell_type": "code",
   "execution_count": 30,
   "metadata": {},
   "outputs": [
    {
     "data": {
      "text/html": [
       "<div>\n",
       "<style scoped>\n",
       "    .dataframe tbody tr th:only-of-type {\n",
       "        vertical-align: middle;\n",
       "    }\n",
       "\n",
       "    .dataframe tbody tr th {\n",
       "        vertical-align: top;\n",
       "    }\n",
       "\n",
       "    .dataframe thead th {\n",
       "        text-align: right;\n",
       "    }\n",
       "</style>\n",
       "<table border=\"1\" class=\"dataframe\">\n",
       "  <thead>\n",
       "    <tr style=\"text-align: right;\">\n",
       "      <th></th>\n",
       "      <th>Date</th>\n",
       "      <th>Open</th>\n",
       "      <th>High</th>\n",
       "      <th>Low</th>\n",
       "      <th>Close</th>\n",
       "      <th>Adj Close</th>\n",
       "      <th>Volume</th>\n",
       "    </tr>\n",
       "  </thead>\n",
       "  <tbody>\n",
       "    <tr>\n",
       "      <th>0</th>\n",
       "      <td>2022-04-04</td>\n",
       "      <td>363.126678</td>\n",
       "      <td>383.303345</td>\n",
       "      <td>357.510010</td>\n",
       "      <td>381.816681</td>\n",
       "      <td>381.816681</td>\n",
       "      <td>82035900</td>\n",
       "    </tr>\n",
       "    <tr>\n",
       "      <th>1</th>\n",
       "      <td>2022-04-05</td>\n",
       "      <td>378.766663</td>\n",
       "      <td>384.290009</td>\n",
       "      <td>362.433319</td>\n",
       "      <td>363.753326</td>\n",
       "      <td>363.753326</td>\n",
       "      <td>80075100</td>\n",
       "    </tr>\n",
       "    <tr>\n",
       "      <th>2</th>\n",
       "      <td>2022-04-06</td>\n",
       "      <td>357.823334</td>\n",
       "      <td>359.666656</td>\n",
       "      <td>342.566681</td>\n",
       "      <td>348.586670</td>\n",
       "      <td>348.586670</td>\n",
       "      <td>89348400</td>\n",
       "    </tr>\n",
       "    <tr>\n",
       "      <th>3</th>\n",
       "      <td>2022-04-07</td>\n",
       "      <td>350.796661</td>\n",
       "      <td>358.863342</td>\n",
       "      <td>340.513336</td>\n",
       "      <td>352.420013</td>\n",
       "      <td>352.420013</td>\n",
       "      <td>79447200</td>\n",
       "    </tr>\n",
       "    <tr>\n",
       "      <th>4</th>\n",
       "      <td>2022-04-08</td>\n",
       "      <td>347.736664</td>\n",
       "      <td>349.480011</td>\n",
       "      <td>340.813324</td>\n",
       "      <td>341.829987</td>\n",
       "      <td>341.829987</td>\n",
       "      <td>55013700</td>\n",
       "    </tr>\n",
       "  </tbody>\n",
       "</table>\n",
       "</div>"
      ],
      "text/plain": [
       "         Date        Open        High         Low       Close   Adj Close  \\\n",
       "0  2022-04-04  363.126678  383.303345  357.510010  381.816681  381.816681   \n",
       "1  2022-04-05  378.766663  384.290009  362.433319  363.753326  363.753326   \n",
       "2  2022-04-06  357.823334  359.666656  342.566681  348.586670  348.586670   \n",
       "3  2022-04-07  350.796661  358.863342  340.513336  352.420013  352.420013   \n",
       "4  2022-04-08  347.736664  349.480011  340.813324  341.829987  341.829987   \n",
       "\n",
       "     Volume  \n",
       "0  82035900  \n",
       "1  80075100  \n",
       "2  89348400  \n",
       "3  79447200  \n",
       "4  55013700  "
      ]
     },
     "execution_count": 30,
     "metadata": {},
     "output_type": "execute_result"
    }
   ],
   "source": [
    "df = pd.read_csv(\"TSLA.csv\")\n",
    "df.head()"
   ]
  },
  {
   "cell_type": "code",
   "execution_count": 31,
   "metadata": {},
   "outputs": [
    {
     "data": {
      "image/png": "[encoded data removed]",
      "text/plain": [
       "<Figure size 432x288 with 1 Axes>"
      ]
     },
     "metadata": {
      "needs_background": "light"
     },
     "output_type": "display_data"
    }
   ],
   "source": [
    "close = df[\"Close\"]\n",
    "ax = close.plot(title = \"Tesla\")\n",
    "ax.set_xlabel(\"Date\")\n",
    "ax.set_ylabel(\"Close\")\n",
    "plt.show()"
   ]
  },
  {
   "cell_type": "code",
   "execution_count": 32,
   "metadata": {},
   "outputs": [
    {
     "data": {
      "text/html": [
       "<div>\n",
       "<style scoped>\n",
       "    .dataframe tbody tr th:only-of-type {\n",
       "        vertical-align: middle;\n",
       "    }\n",
       "\n",
       "    .dataframe tbody tr th {\n",
       "        vertical-align: top;\n",
       "    }\n",
       "\n",
       "    .dataframe thead th {\n",
       "        text-align: right;\n",
       "    }\n",
       "</style>\n",
       "<table border=\"1\" class=\"dataframe\">\n",
       "  <thead>\n",
       "    <tr style=\"text-align: right;\">\n",
       "      <th></th>\n",
       "      <th>Date</th>\n",
       "      <th>Close</th>\n",
       "    </tr>\n",
       "  </thead>\n",
       "  <tbody>\n",
       "    <tr>\n",
       "      <th>0</th>\n",
       "      <td>2022-04-04</td>\n",
       "      <td>381.816681</td>\n",
       "    </tr>\n",
       "    <tr>\n",
       "      <th>1</th>\n",
       "      <td>2022-04-05</td>\n",
       "      <td>363.753326</td>\n",
       "    </tr>\n",
       "    <tr>\n",
       "      <th>2</th>\n",
       "      <td>2022-04-06</td>\n",
       "      <td>348.586670</td>\n",
       "    </tr>\n",
       "    <tr>\n",
       "      <th>3</th>\n",
       "      <td>2022-04-07</td>\n",
       "      <td>352.420013</td>\n",
       "    </tr>\n",
       "    <tr>\n",
       "      <th>4</th>\n",
       "      <td>2022-04-08</td>\n",
       "      <td>341.829987</td>\n",
       "    </tr>\n",
       "  </tbody>\n",
       "</table>\n",
       "</div>"
      ],
      "text/plain": [
       "        Date       Close\n",
       "0 2022-04-04  381.816681\n",
       "1 2022-04-05  363.753326\n",
       "2 2022-04-06  348.586670\n",
       "3 2022-04-07  352.420013\n",
       "4 2022-04-08  341.829987"
      ]
     },
     "execution_count": 32,
     "metadata": {},
     "output_type": "execute_result"
    }
   ],
   "source": [
    "df[\"Date\"] = pd.to_datetime(df[\"Date\"], infer_datetime_format=True)\n",
    "df = df[[\"Date\", \"Close\"]]\n",
    "df.head()"
   ]
  },
  {
   "cell_type": "code",
   "execution_count": 37,
   "metadata": {},
   "outputs": [],
   "source": [
    "data = df.rename(columns={\"Date\" : \"ds\", \"Close\" : \"y\"})\n",
    "\n"
   ]
  },
  {
   "cell_type": "code",
   "execution_count": 42,
   "metadata": {},
   "outputs": [
    {
     "ename": "TypeError",
     "evalue": "'module' object is not callable",
     "output_type": "error",
     "traceback": [
      "\u001b[1;31m---------------------------------------------------------------------------\u001b[0m",
      "\u001b[1;31mTypeError\u001b[0m                                 Traceback (most recent call last)",
      "\u001b[1;32mc:\\Users\\TOSHIBA\\Desktop\\Projelerim\\1.Yapılanlar\\Amazon-Stock-Price-Prediction-with-Linear-Regression\\AmazonStockPricePredictionLinearRegression.ipynb Cell 15\u001b[0m in \u001b[0;36m<cell line: 1>\u001b[1;34m()\u001b[0m\n\u001b[1;32m----> <a href='vscode-notebook-cell:/c%3A/Users/TOSHIBA/Desktop/Projelerim/1.Yap%C4%B1lanlar/Amazon-Stock-Price-Prediction-with-Linear-Regression/AmazonStockPricePredictionLinearRegression.ipynb#X21sZmlsZQ%3D%3D?line=0'>1</a>\u001b[0m model \u001b[39m=\u001b[39m prophet()\n\u001b[0;32m      <a href='vscode-notebook-cell:/c%3A/Users/TOSHIBA/Desktop/Projelerim/1.Yap%C4%B1lanlar/Amazon-Stock-Price-Prediction-with-Linear-Regression/AmazonStockPricePredictionLinearRegression.ipynb#X21sZmlsZQ%3D%3D?line=1'>2</a>\u001b[0m model\n",
      "\u001b[1;31mTypeError\u001b[0m: 'module' object is not callable"
     ]
    }
   ],
   "source": [
    "model = prophet()\n",
    "model"
   ]
  },
  {
   "cell_type": "code",
   "execution_count": 39,
   "metadata": {},
   "outputs": [
    {
     "ename": "NameError",
     "evalue": "name 'model' is not defined",
     "output_type": "error",
     "traceback": [
      "\u001b[1;31m---------------------------------------------------------------------------\u001b[0m",
      "\u001b[1;31mNameError\u001b[0m                                 Traceback (most recent call last)",
      "\u001b[1;32mc:\\Users\\TOSHIBA\\Desktop\\Projelerim\\1.Yapılanlar\\Amazon-Stock-Price-Prediction-with-Linear-Regression\\AmazonStockPricePredictionLinearRegression.ipynb Cell 16\u001b[0m in \u001b[0;36m<cell line: 1>\u001b[1;34m()\u001b[0m\n\u001b[1;32m----> <a href='vscode-notebook-cell:/c%3A/Users/TOSHIBA/Desktop/Projelerim/1.Yap%C4%B1lanlar/Amazon-Stock-Price-Prediction-with-Linear-Regression/AmazonStockPricePredictionLinearRegression.ipynb#X22sZmlsZQ%3D%3D?line=0'>1</a>\u001b[0m model\u001b[39m.\u001b[39mfit(data)\n",
      "\u001b[1;31mNameError\u001b[0m: name 'model' is not defined"
     ]
    }
   ],
   "source": [
    "model.fit(data)"
   ]
  },
  {
   "cell_type": "code",
   "execution_count": 40,
   "metadata": {},
   "outputs": [
    {
     "ename": "NameError",
     "evalue": "name 'model' is not defined",
     "output_type": "error",
     "traceback": [
      "\u001b[1;31m---------------------------------------------------------------------------\u001b[0m",
      "\u001b[1;31mNameError\u001b[0m                                 Traceback (most recent call last)",
      "\u001b[1;32mc:\\Users\\TOSHIBA\\Desktop\\Projelerim\\1.Yapılanlar\\Amazon-Stock-Price-Prediction-with-Linear-Regression\\AmazonStockPricePredictionLinearRegression.ipynb Cell 17\u001b[0m in \u001b[0;36m<cell line: 1>\u001b[1;34m()\u001b[0m\n\u001b[1;32m----> <a href='vscode-notebook-cell:/c%3A/Users/TOSHIBA/Desktop/Projelerim/1.Yap%C4%B1lanlar/Amazon-Stock-Price-Prediction-with-Linear-Regression/AmazonStockPricePredictionLinearRegression.ipynb#X20sZmlsZQ%3D%3D?line=0'>1</a>\u001b[0m predict \u001b[39m=\u001b[39m model\u001b[39m.\u001b[39m make_future_dataframe(periods \u001b[39m=\u001b[39m \u001b[39m365\u001b[39m)\n\u001b[0;32m      <a href='vscode-notebook-cell:/c%3A/Users/TOSHIBA/Desktop/Projelerim/1.Yap%C4%B1lanlar/Amazon-Stock-Price-Prediction-with-Linear-Regression/AmazonStockPricePredictionLinearRegression.ipynb#X20sZmlsZQ%3D%3D?line=1'>2</a>\u001b[0m forcast \u001b[39m=\u001b[39m model\u001b[39m.\u001b[39mpredict(predict)\n\u001b[0;32m      <a href='vscode-notebook-cell:/c%3A/Users/TOSHIBA/Desktop/Projelerim/1.Yap%C4%B1lanlar/Amazon-Stock-Price-Prediction-with-Linear-Regression/AmazonStockPricePredictionLinearRegression.ipynb#X20sZmlsZQ%3D%3D?line=2'>3</a>\u001b[0m forcast[[\u001b[39m\"\u001b[39m\u001b[39mds\u001b[39m\u001b[39m\"\u001b[39m, \u001b[39m\"\u001b[39m\u001b[39myhat\u001b[39m\u001b[39m\"\u001b[39m, \u001b[39m\"\u001b[39m\u001b[39myhat_lower\u001b[39m\u001b[39m\"\u001b[39m, \u001b[39m\"\u001b[39m\u001b[39myhat_upper\u001b[39m\u001b[39m\"\u001b[39m]]\u001b[39m.\u001b[39mtail()\n",
      "\u001b[1;31mNameError\u001b[0m: name 'model' is not defined"
     ]
    }
   ],
   "source": [
    "\n",
    "predict = model. make_future_dataframe(periods = 365)\n",
    "forcast = model.predict(predict)\n",
    "forcast[[\"ds\", \"yhat\", \"yhat_lower\", \"yhat_upper\"]].tail()"
   ]
  },
  {
   "cell_type": "code",
   "execution_count": 43,
   "metadata": {},
   "outputs": [
    {
     "ename": "NameError",
     "evalue": "name 'model' is not defined",
     "output_type": "error",
     "traceback": [
      "\u001b[1;31m---------------------------------------------------------------------------\u001b[0m",
      "\u001b[1;31mNameError\u001b[0m                                 Traceback (most recent call last)",
      "\u001b[1;32mc:\\Users\\TOSHIBA\\Desktop\\Projelerim\\1.Yapılanlar\\Amazon-Stock-Price-Prediction-with-Linear-Regression\\AmazonStockPricePredictionLinearRegression.ipynb Cell 18\u001b[0m in \u001b[0;36m<cell line: 1>\u001b[1;34m()\u001b[0m\n\u001b[1;32m----> <a href='vscode-notebook-cell:/c%3A/Users/TOSHIBA/Desktop/Projelerim/1.Yap%C4%B1lanlar/Amazon-Stock-Price-Prediction-with-Linear-Regression/AmazonStockPricePredictionLinearRegression.ipynb#X23sZmlsZQ%3D%3D?line=0'>1</a>\u001b[0m grapph \u001b[39m=\u001b[39m model\u001b[39m.\u001b[39mplot(forecast, xlabel \u001b[39m=\u001b[39m \u001b[39m\"\u001b[39m\u001b[39mDate\u001b[39m\u001b[39m\"\u001b[39m, ylabel \u001b[39m=\u001b[39m \u001b[39m\"\u001b[39m\u001b[39mPrice\u001b[39m\u001b[39m\"\u001b[39m)\n",
      "\u001b[1;31mNameError\u001b[0m: name 'model' is not defined"
     ]
    }
   ],
   "source": [
    "grapph = model.plot(forecast, xlabel = \"Date\", ylabel = \"Price\")"
   ]
  }
 ],
 "metadata": {
  "kernelspec": {
   "display_name": "pythonProject",
   "language": "python",
   "name": "python3"
  },
  "language_info": {
   "codemirror_mode": {
    "name": "ipython",
    "version": 3
   },
   "file_extension": ".py",
   "mimetype": "text/x-python",
   "name": "python",
   "nbconvert_exporter": "python",
   "pygments_lexer": "ipython3",
   "version": "3.9.12"
  },
  "orig_nbformat": 4,
  "vscode": {
   "interpreter": {
    "hash": "45a60c048f4ccd6c48c495f838e9ad694b36421548fddd91d87e2ee8d4b585bd"
   }
  }
 },
 "nbformat": 4,
 "nbformat_minor": 2
}
