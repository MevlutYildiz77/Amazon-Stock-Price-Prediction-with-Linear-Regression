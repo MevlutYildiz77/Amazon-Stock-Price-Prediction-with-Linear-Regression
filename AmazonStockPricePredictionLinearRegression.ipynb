{
 "cells": [
  {
   "cell_type": "code",
   "execution_count": 61,
   "metadata": {},
   "outputs": [],
   "source": [
    "import pandas as pd\n",
    "import numpy as np\n",
    "from sklearn import preprocessing\n",
    "from sklearn.model_selection import train_test_split\n",
    "from sklearn.linear_model import LinearRegression"
   ]
  },
  {
   "cell_type": "code",
   "execution_count": 62,
   "metadata": {},
   "outputs": [],
   "source": [
    "def prepare_data(df, forecast_col, forecast_out, test_size):\n",
    "    label = df[forecast_col].shift(-forecast_out)  # #creating new column called label with the last 5 rows are nan\n",
    "    X = np.array(df[[forecast_col]])  # #creating the feature array\n",
    "    X = preprocessing.scale(X)  # #processing the feature array\n",
    "    X_lately = X[-forecast_out:]  # #creating the column i want to use later in the predicting method\n",
    "    X = X[:-forecast_out]  #  X that will contain the training and testing\n",
    "    label.dropna(inplace = True) #dropping na values\n",
    "    y = np.array(label) # assigning Y\n",
    "    X_train, X_test, Y_train, Y_test = train_test_split(X, y, test_size=test_size, random_state=42) #cross validation\n",
    "\n",
    "    response = [X_train, X_test, Y_train, Y_test, X_lately]\n",
    "    return response\n"
   ]
  },
  {
   "cell_type": "code",
   "execution_count": 63,
   "metadata": {},
   "outputs": [
    {
     "data": {
      "text/html": [
       "<div>\n",
       "<style scoped>\n",
       "    .dataframe tbody tr th:only-of-type {\n",
       "        vertical-align: middle;\n",
       "    }\n",
       "\n",
       "    .dataframe tbody tr th {\n",
       "        vertical-align: top;\n",
       "    }\n",
       "\n",
       "    .dataframe thead th {\n",
       "        text-align: right;\n",
       "    }\n",
       "</style>\n",
       "<table border=\"1\" class=\"dataframe\">\n",
       "  <thead>\n",
       "    <tr style=\"text-align: right;\">\n",
       "      <th></th>\n",
       "      <th>Date</th>\n",
       "      <th>Open</th>\n",
       "      <th>High</th>\n",
       "      <th>Low</th>\n",
       "      <th>Close</th>\n",
       "      <th>Adj Close</th>\n",
       "      <th>Volume</th>\n",
       "    </tr>\n",
       "  </thead>\n",
       "  <tbody>\n",
       "    <tr>\n",
       "      <th>0</th>\n",
       "      <td>2022-02-04</td>\n",
       "      <td>155.606506</td>\n",
       "      <td>161.199997</td>\n",
       "      <td>150.608002</td>\n",
       "      <td>157.639496</td>\n",
       "      <td>157.639496</td>\n",
       "      <td>253456000</td>\n",
       "    </tr>\n",
       "    <tr>\n",
       "      <th>1</th>\n",
       "      <td>2022-02-07</td>\n",
       "      <td>158.520004</td>\n",
       "      <td>162.690994</td>\n",
       "      <td>157.250000</td>\n",
       "      <td>157.935501</td>\n",
       "      <td>157.935501</td>\n",
       "      <td>102624000</td>\n",
       "    </tr>\n",
       "    <tr>\n",
       "      <th>2</th>\n",
       "      <td>2022-02-08</td>\n",
       "      <td>156.750504</td>\n",
       "      <td>161.792496</td>\n",
       "      <td>155.550507</td>\n",
       "      <td>161.413498</td>\n",
       "      <td>161.413498</td>\n",
       "      <td>76040000</td>\n",
       "    </tr>\n",
       "    <tr>\n",
       "      <th>3</th>\n",
       "      <td>2022-02-09</td>\n",
       "      <td>162.873505</td>\n",
       "      <td>163.834503</td>\n",
       "      <td>160.250000</td>\n",
       "      <td>161.189499</td>\n",
       "      <td>161.189499</td>\n",
       "      <td>68786000</td>\n",
       "    </tr>\n",
       "    <tr>\n",
       "      <th>4</th>\n",
       "      <td>2022-02-10</td>\n",
       "      <td>158.350006</td>\n",
       "      <td>160.716507</td>\n",
       "      <td>157.750000</td>\n",
       "      <td>159.003494</td>\n",
       "      <td>159.003494</td>\n",
       "      <td>68268000</td>\n",
       "    </tr>\n",
       "  </tbody>\n",
       "</table>\n",
       "</div>"
      ],
      "text/plain": [
       "         Date        Open        High         Low       Close   Adj Close  \\\n",
       "0  2022-02-04  155.606506  161.199997  150.608002  157.639496  157.639496   \n",
       "1  2022-02-07  158.520004  162.690994  157.250000  157.935501  157.935501   \n",
       "2  2022-02-08  156.750504  161.792496  155.550507  161.413498  161.413498   \n",
       "3  2022-02-09  162.873505  163.834503  160.250000  161.189499  161.189499   \n",
       "4  2022-02-10  158.350006  160.716507  157.750000  159.003494  159.003494   \n",
       "\n",
       "      Volume  \n",
       "0  253456000  \n",
       "1  102624000  \n",
       "2   76040000  \n",
       "3   68786000  \n",
       "4   68268000  "
      ]
     },
     "execution_count": 63,
     "metadata": {},
     "output_type": "execute_result"
    }
   ],
   "source": [
    "df= pd.read_csv(\"prices.csv\")\n",
    "df.head()"
   ]
  },
  {
   "cell_type": "code",
   "execution_count": 64,
   "metadata": {},
   "outputs": [
    {
     "name": "stdout",
     "output_type": "stream",
     "text": [
      "<class 'pandas.core.frame.DataFrame'>\n",
      "RangeIndex: 251 entries, 0 to 250\n",
      "Data columns (total 7 columns):\n",
      " #   Column     Non-Null Count  Dtype  \n",
      "---  ------     --------------  -----  \n",
      " 0   Date       251 non-null    object \n",
      " 1   Open       251 non-null    float64\n",
      " 2   High       251 non-null    float64\n",
      " 3   Low        251 non-null    float64\n",
      " 4   Close      251 non-null    float64\n",
      " 5   Adj Close  251 non-null    float64\n",
      " 6   Volume     251 non-null    int64  \n",
      "dtypes: float64(5), int64(1), object(1)\n",
      "memory usage: 13.9+ KB\n"
     ]
    }
   ],
   "source": [
    "df.info()"
   ]
  },
  {
   "cell_type": "code",
   "execution_count": 65,
   "metadata": {},
   "outputs": [],
   "source": [
    "#df = df[df.symbol == \"AMZN\"]"
   ]
  },
  {
   "cell_type": "code",
   "execution_count": 66,
   "metadata": {},
   "outputs": [],
   "source": [
    "forecast_col = 'Close'\n",
    "forecast_out = 7\n",
    "test_size = 0.2"
   ]
  },
  {
   "cell_type": "code",
   "execution_count": 67,
   "metadata": {},
   "outputs": [
    {
     "data": {
      "text/plain": [
       "LinearRegression()"
      ]
     },
     "execution_count": 67,
     "metadata": {},
     "output_type": "execute_result"
    }
   ],
   "source": [
    "X_train, X_test, Y_train, Y_test, X_lately = prepare_data(df,forecast_col, forecast_out, test_size)\n",
    "learner = LinearRegression()\n",
    "learner.fit(X_train, Y_train)\n"
   ]
  },
  {
   "cell_type": "code",
   "execution_count": 68,
   "metadata": {},
   "outputs": [
    {
     "name": "stdout",
     "output_type": "stream",
     "text": [
      "{'test_score': 0.7946357962920226, 'forecast_set': array([100.24502161, 102.81498062, 101.37682758, 103.57235255,\n",
      "       105.29133772, 111.89494927, 103.79360922])}\n"
     ]
    }
   ],
   "source": [
    "score= learner.score(X_test, Y_test) #testing the linear regression model\n",
    "forecast = learner.predict(X_lately)  #set that will contain the forecasted data\n",
    "response = {}  #creting json object\n",
    "response['test_score']= score\n",
    "response['forecast_set'] = forecast\n",
    "\n",
    "print(response)\n"
   ]
  }
 ],
 "metadata": {
  "kernelspec": {
   "display_name": "pythonProject",
   "language": "python",
   "name": "python3"
  },
  "language_info": {
   "codemirror_mode": {
    "name": "ipython",
    "version": 3
   },
   "file_extension": ".py",
   "mimetype": "text/x-python",
   "name": "python",
   "nbconvert_exporter": "python",
   "pygments_lexer": "ipython3",
   "version": "3.9.12"
  },
  "orig_nbformat": 4,
  "vscode": {
   "interpreter": {
    "hash": "45a60c048f4ccd6c48c495f838e9ad694b36421548fddd91d87e2ee8d4b585bd"
   }
  }
 },
 "nbformat": 4,
 "nbformat_minor": 2
}
